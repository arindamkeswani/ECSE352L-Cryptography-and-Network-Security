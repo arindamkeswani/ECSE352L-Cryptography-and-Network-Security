{
  "nbformat": 4,
  "nbformat_minor": 0,
  "metadata": {
    "colab": {
      "name": "CNS Lab 3.ipynb",
      "provenance": [],
      "collapsed_sections": []
    },
    "kernelspec": {
      "name": "python3",
      "display_name": "Python 3"
    }
  },
  "cells": [
    {
      "cell_type": "code",
      "metadata": {
        "id": "0ElVXh0tOM85",
        "colab_type": "code",
        "colab": {}
      },
      "source": [
        "#VERNAM ONE-TIME PAD ADDITIVE CIPHER\n",
        "\n",
        "def encrypt(a,b): #list inputs\n",
        "  f=[]\n",
        "  for i in range(len(a)):\n",
        "    f.append(a[i]^b[i])\n",
        "    #f.append(bin(a[i])^bin(b[i]))\n",
        "  return f\n",
        "\n",
        "  \n",
        "def convert(a): #string inputs\n",
        "  pl=[]\n",
        "  for i in a:\n",
        "    pl.append(ord(i))\n",
        "  return pl\n",
        "\n",
        "def decrypt(a,ke):\n",
        "  de=[]\n",
        "  for i in range(len(a)):\n",
        "    de.append(a[i]^ke[i])\n",
        "    #f.append(bin(a[i])^bin([i]))\n",
        "  return de\n",
        "def convback(de):\n",
        "  ans=[]\n",
        "  for i in de:\n",
        "    ans.append(chr(i))\n",
        "  a=\"\".join(ans)\n",
        "  return a"
      ],
      "execution_count": null,
      "outputs": []
    },
    {
      "cell_type": "code",
      "metadata": {
        "id": "aUvu5c2_Q0aE",
        "colab_type": "code",
        "colab": {
          "base_uri": "https://localhost:8080/",
          "height": 84
        },
        "outputId": "8692f0a0-4a6a-4345-9315-4264038fab41"
      },
      "source": [
        "n='hello'\n",
        "k='pluto'\n",
        "pl=convert(n)\n",
        "ke=convert(k)\n",
        "print(\"Plaintext\",pl)\n",
        "cipher=encrypt(pl,ke)\n",
        "print(\"Cipher stream:\",cipher)\n",
        "de=decrypt(cipher,ke)\n",
        "print(\"Decrypted: \",de)\n",
        "\n",
        "ans=convback(de)\n",
        "print(ans)"
      ],
      "execution_count": null,
      "outputs": [
        {
          "output_type": "stream",
          "text": [
            "Plaintext [104, 101, 108, 108, 111]\n",
            "Cipher stream: [24, 9, 25, 24, 0]\n",
            "Decrypted:  [104, 101, 108, 108, 111]\n",
            "hello\n"
          ],
          "name": "stdout"
        }
      ]
    },
    {
      "cell_type": "code",
      "metadata": {
        "id": "XB4BV8VAYNjD",
        "colab_type": "code",
        "colab": {
          "base_uri": "https://localhost:8080/",
          "height": 101
        },
        "outputId": "2794c2ce-1e4b-491d-99ce-8ef474828960"
      },
      "source": [
        "#Vigenere cipher prototype\n",
        "\n",
        "plain=\"She is listening\".lower()\n",
        "key=\"pascal\".lower()\n",
        "\n",
        "n=len(key)\n",
        "\n",
        "def encrypt(plain,key,n):\n",
        "    plain= plain.lower()\n",
        "    key= key.lower()\n",
        "    k=[]\n",
        "    ci=[]\n",
        "\n",
        "    for i in plain:\n",
        "        if i != ' ':\n",
        "          ci.append(ord(i)-97)\n",
        "    print(ci)\n",
        "    key = key*(len(ci)//n + 1)\n",
        "\n",
        "    print(key)\n",
        "\n",
        "    for i in key:\n",
        "        k.append(ord(i)-97)\n",
        "    \n",
        "\n",
        "\n",
        "    print(k)\n",
        "\n",
        "\n",
        "    for i in range(len(ci)):\n",
        "        ci[i]= chr((ci[i]+k[i])%26 + 97)\n",
        "    \n",
        "    return \"\".join(ci)\n",
        "\n",
        "\n",
        "def decrypt(cip, key, n):\n",
        "    cip= plain.lower()\n",
        "    key= key.lower()\n",
        "    k=[]\n",
        "    pl=[]\n",
        "\n",
        "    for i in cip:\n",
        "      if i != ' ':\n",
        "        pl.append(ord(i)-97)\n",
        "    #print(pl)\n",
        "    key = key*(len(pl)//n + 1)\n",
        "\n",
        "    #print(key)\n",
        "\n",
        "    for i in key:\n",
        "      k.append(ord(i)-97)\n",
        "\n",
        "\n",
        "\n",
        "    #print(k)\n",
        "\n",
        "\n",
        "    for i in range(len(pl)):\n",
        "        pl[i]= chr((pl[i]-k[i])%26 + 97)\n",
        "\n",
        "    return \"\".join(pl)\n",
        "\n",
        "cip=encrypt(plain,key,n)\n",
        "print(\"Cipher text:\",cip)\n",
        "dec=decrypt(cip,key,n)\n",
        "print(\"Decrypted text:\",dec)"
      ],
      "execution_count": 10,
      "outputs": [
        {
          "output_type": "stream",
          "text": [
            "[18, 7, 4, 8, 18, 11, 8, 18, 19, 4, 13, 8, 13, 6]\n",
            "pascalpascalpascal\n",
            "[15, 0, 18, 2, 0, 11, 15, 0, 18, 2, 0, 11, 15, 0, 18, 2, 0, 11]\n",
            "Cipher text: hhwkswxslgntcg\n",
            "Decrypted text: sheislistening\n"
          ],
          "name": "stdout"
        }
      ]
    },
    {
      "cell_type": "code",
      "metadata": {
        "id": "JOln-cv9Tb7S",
        "colab_type": "code",
        "colab": {}
      },
      "source": [
        "#IGNORE\n",
        "\n",
        "\n",
        "# #Q2 Vernam One-time pad cipher\n",
        "# # plain=input(\"Enter plaintext: \")\n",
        "# # key=input(\"Enter key: \")\n",
        "\n",
        "# a_string = \"abc\"\n",
        "\n",
        "# a_byte_array = bytearray(a_string, \"utf8\")\n",
        "# print(a_byte_array)\n",
        "\n",
        "# byte_list = []\n",
        "\n",
        "# for byte in a_byte_array:\n",
        "#     binary_representation = bin(byte)\n",
        "\n",
        "\n",
        "#     byte_list.append(binary_representation)\n",
        "\n",
        "# for i in \n",
        "\n",
        "# print(byte_list)"
      ],
      "execution_count": null,
      "outputs": []
    }
  ]
}