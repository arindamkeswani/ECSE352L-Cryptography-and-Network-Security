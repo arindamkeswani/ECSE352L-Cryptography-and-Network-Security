{
  "nbformat": 4,
  "nbformat_minor": 0,
  "metadata": {
    "colab": {
      "name": "CNS_Lab_1.ipynb",
      "provenance": [],
      "collapsed_sections": []
    },
    "kernelspec": {
      "name": "python3",
      "display_name": "Python 3"
    }
  },
  "cells": [
    {
      "cell_type": "code",
      "metadata": {
        "id": "qIrDnhu0_U4g",
        "colab_type": "code",
        "colab": {
          "base_uri": "https://localhost:8080/",
          "height": 134
        },
        "outputId": "0de4c7fa-8149-4cf4-b10b-313c6f2337e1"
      },
      "source": [
        "#Caeser cipher\n",
        "\n",
        "def encrypt(text,k):\n",
        "  plain= text.lower()\n",
        "  cipher= \"\"\n",
        "    \n",
        "  for i in plain:\n",
        "    if (ord(i)+k) <= 122:\n",
        "      cipher+= chr(ord(i)+k)\n",
        "    elif (ord(i)+k) > 122:\n",
        "      cipher+= chr(ord(i)-26+k)\n",
        "  print(\"Encrypted message is:\",cipher)\n",
        "\n",
        "def decrypt(text,k):\n",
        "  cipher = text.lower()\n",
        "  decry=\"\"\n",
        "  for i in cipher:\n",
        "      if (ord(i)-k) >= 97:\n",
        "        decry+= chr(ord(i)-k)\n",
        "      elif (ord(i)-k) < 97:\n",
        "        decry+= chr(ord(i)+26-k)\n",
        "  print(\"Decrypted message is:\",decry)\n",
        "\n",
        "\n",
        "\n",
        "def caeser():\n",
        "  n= input('Enter the Message: ')\n",
        "  k= int(input('Enter Key: '))\n",
        "  print(\"Choose from the following options:\")\n",
        "  print(\"1. Encrypt the Message\")\n",
        "  print(\"2. Decrypt the Message\")\n",
        "  cho=int(input(\"Choice:\"))\n",
        "\n",
        "\n",
        "  if cho==1:\n",
        "    encrypt(n,k)\n",
        "  elif cho==2:\n",
        "    decrypt(n,k)\n",
        "\n",
        "caeser()"
      ],
      "execution_count": null,
      "outputs": [
        {
          "output_type": "stream",
          "text": [
            "Enter the Message: AbCd\n",
            "Enter Key: 4\n",
            "Choose from the following options:\n",
            "1. Encrypt the Message\n",
            "2. Decrypt the Message\n",
            "Choice:1\n",
            "Encrypted message is: efgh\n"
          ],
          "name": "stdout"
        }
      ]
    },
    {
      "cell_type": "code",
      "metadata": {
        "id": "l7D4JaA5GQdo",
        "colab_type": "code",
        "colab": {
          "base_uri": "https://localhost:8080/",
          "height": 134
        },
        "outputId": "a4acff31-3ad1-4e26-b91e-63c1d38f2281"
      },
      "source": [
        "caeser()"
      ],
      "execution_count": null,
      "outputs": [
        {
          "output_type": "stream",
          "text": [
            "Enter the Message: abcd\n",
            "Enter Key: 4\n",
            "Choose from the following options:\n",
            "1. Encrypt the Message\n",
            "2. Decrypt the Message\n",
            "Choice:2\n",
            "Decrypted message is: wxyz\n"
          ],
          "name": "stdout"
        }
      ]
    },
    {
      "cell_type": "code",
      "metadata": {
        "id": "RstLBX0MWiIF",
        "colab_type": "code",
        "colab": {
          "base_uri": "https://localhost:8080/",
          "height": 34
        },
        "outputId": "7ad27e76-ce5d-4801-f43e-9e609c244b3c"
      },
      "source": [
        "#Nonce\n",
        "import random\n",
        "no=random.sample(range(1, 10000), 10)\n",
        "no"
      ],
      "execution_count": null,
      "outputs": [
        {
          "output_type": "execute_result",
          "data": {
            "text/plain": [
              "[7939, 6757, 2015, 8793, 7752, 8955, 9972, 8361, 6476, 8740]"
            ]
          },
          "metadata": {
            "tags": []
          },
          "execution_count": 22
        }
      ]
    }
  ]
}